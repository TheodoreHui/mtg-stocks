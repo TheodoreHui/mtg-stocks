{
 "cells": [
  {
   "cell_type": "code",
   "execution_count": 1,
   "metadata": {},
   "outputs": [],
   "source": [
    "%reload_ext autoreload\n",
    "%autoreload 2"
   ]
  },
  {
   "cell_type": "code",
   "execution_count": 2,
   "metadata": {},
   "outputs": [
    {
     "name": "stderr",
     "output_type": "stream",
     "text": [
      "c:\\Users\\theod\\.conda\\envs\\DSC180\\Lib\\site-packages\\sentence_transformers\\cross_encoder\\CrossEncoder.py:11: TqdmExperimentalWarning: Using `tqdm.autonotebook.tqdm` in notebook mode. Use `tqdm.tqdm` instead to force console mode (e.g. in jupyter console)\n",
      "  from tqdm.autonotebook import tqdm, trange\n"
     ]
    },
    {
     "name": "stdout",
     "output_type": "stream",
     "text": [
      "WARNING:tensorflow:From c:\\Users\\theod\\.conda\\envs\\DSC180\\Lib\\site-packages\\tf_keras\\src\\losses.py:2976: The name tf.losses.sparse_softmax_cross_entropy is deprecated. Please use tf.compat.v1.losses.sparse_softmax_cross_entropy instead.\n",
      "\n"
     ]
    }
   ],
   "source": [
    "import os\n",
    "import pandas as pd\n",
    "from card_sim import *\n",
    "from card_comp import *"
   ]
  },
  {
   "cell_type": "code",
   "execution_count": 10,
   "metadata": {},
   "outputs": [
    {
     "data": {
      "text/plain": [
       "{'encoding': 'MacRoman', 'confidence': 0.7116202457375578, 'language': ''}"
      ]
     },
     "execution_count": 10,
     "metadata": {},
     "output_type": "execute_result"
    }
   ],
   "source": [
    "import chardet\n",
    "with open(CARDS_PATH, 'rb') as rawdata:\n",
    "    result = chardet.detect(rawdata.read(100000))\n",
    "result"
   ]
  },
  {
   "cell_type": "code",
   "execution_count": 11,
   "metadata": {},
   "outputs": [
    {
     "ename": "UnicodeDecodeError",
     "evalue": "'utf-8' codec can't decode byte 0x80 in position 0: invalid start byte",
     "output_type": "error",
     "traceback": [
      "\u001b[1;31m---------------------------------------------------------------------------\u001b[0m",
      "\u001b[1;31mUnicodeDecodeError\u001b[0m                        Traceback (most recent call last)",
      "Cell \u001b[1;32mIn[11], line 1\u001b[0m\n\u001b[1;32m----> 1\u001b[0m pd\u001b[38;5;241m.\u001b[39mread_csv(CARDS_PATH)\n",
      "File \u001b[1;32mc:\\Users\\theod\\.conda\\envs\\DSC180\\Lib\\site-packages\\pandas\\io\\parsers\\readers.py:948\u001b[0m, in \u001b[0;36mread_csv\u001b[1;34m(filepath_or_buffer, sep, delimiter, header, names, index_col, usecols, dtype, engine, converters, true_values, false_values, skipinitialspace, skiprows, skipfooter, nrows, na_values, keep_default_na, na_filter, verbose, skip_blank_lines, parse_dates, infer_datetime_format, keep_date_col, date_parser, date_format, dayfirst, cache_dates, iterator, chunksize, compression, thousands, decimal, lineterminator, quotechar, quoting, doublequote, escapechar, comment, encoding, encoding_errors, dialect, on_bad_lines, delim_whitespace, low_memory, memory_map, float_precision, storage_options, dtype_backend)\u001b[0m\n\u001b[0;32m    935\u001b[0m kwds_defaults \u001b[38;5;241m=\u001b[39m _refine_defaults_read(\n\u001b[0;32m    936\u001b[0m     dialect,\n\u001b[0;32m    937\u001b[0m     delimiter,\n\u001b[1;32m   (...)\u001b[0m\n\u001b[0;32m    944\u001b[0m     dtype_backend\u001b[38;5;241m=\u001b[39mdtype_backend,\n\u001b[0;32m    945\u001b[0m )\n\u001b[0;32m    946\u001b[0m kwds\u001b[38;5;241m.\u001b[39mupdate(kwds_defaults)\n\u001b[1;32m--> 948\u001b[0m \u001b[38;5;28;01mreturn\u001b[39;00m _read(filepath_or_buffer, kwds)\n",
      "File \u001b[1;32mc:\\Users\\theod\\.conda\\envs\\DSC180\\Lib\\site-packages\\pandas\\io\\parsers\\readers.py:611\u001b[0m, in \u001b[0;36m_read\u001b[1;34m(filepath_or_buffer, kwds)\u001b[0m\n\u001b[0;32m    608\u001b[0m _validate_names(kwds\u001b[38;5;241m.\u001b[39mget(\u001b[38;5;124m\"\u001b[39m\u001b[38;5;124mnames\u001b[39m\u001b[38;5;124m\"\u001b[39m, \u001b[38;5;28;01mNone\u001b[39;00m))\n\u001b[0;32m    610\u001b[0m \u001b[38;5;66;03m# Create the parser.\u001b[39;00m\n\u001b[1;32m--> 611\u001b[0m parser \u001b[38;5;241m=\u001b[39m TextFileReader(filepath_or_buffer, \u001b[38;5;241m*\u001b[39m\u001b[38;5;241m*\u001b[39mkwds)\n\u001b[0;32m    613\u001b[0m \u001b[38;5;28;01mif\u001b[39;00m chunksize \u001b[38;5;129;01mor\u001b[39;00m iterator:\n\u001b[0;32m    614\u001b[0m     \u001b[38;5;28;01mreturn\u001b[39;00m parser\n",
      "File \u001b[1;32mc:\\Users\\theod\\.conda\\envs\\DSC180\\Lib\\site-packages\\pandas\\io\\parsers\\readers.py:1448\u001b[0m, in \u001b[0;36mTextFileReader.__init__\u001b[1;34m(self, f, engine, **kwds)\u001b[0m\n\u001b[0;32m   1445\u001b[0m     \u001b[38;5;28mself\u001b[39m\u001b[38;5;241m.\u001b[39moptions[\u001b[38;5;124m\"\u001b[39m\u001b[38;5;124mhas_index_names\u001b[39m\u001b[38;5;124m\"\u001b[39m] \u001b[38;5;241m=\u001b[39m kwds[\u001b[38;5;124m\"\u001b[39m\u001b[38;5;124mhas_index_names\u001b[39m\u001b[38;5;124m\"\u001b[39m]\n\u001b[0;32m   1447\u001b[0m \u001b[38;5;28mself\u001b[39m\u001b[38;5;241m.\u001b[39mhandles: IOHandles \u001b[38;5;241m|\u001b[39m \u001b[38;5;28;01mNone\u001b[39;00m \u001b[38;5;241m=\u001b[39m \u001b[38;5;28;01mNone\u001b[39;00m\n\u001b[1;32m-> 1448\u001b[0m \u001b[38;5;28mself\u001b[39m\u001b[38;5;241m.\u001b[39m_engine \u001b[38;5;241m=\u001b[39m \u001b[38;5;28mself\u001b[39m\u001b[38;5;241m.\u001b[39m_make_engine(f, \u001b[38;5;28mself\u001b[39m\u001b[38;5;241m.\u001b[39mengine)\n",
      "File \u001b[1;32mc:\\Users\\theod\\.conda\\envs\\DSC180\\Lib\\site-packages\\pandas\\io\\parsers\\readers.py:1723\u001b[0m, in \u001b[0;36mTextFileReader._make_engine\u001b[1;34m(self, f, engine)\u001b[0m\n\u001b[0;32m   1720\u001b[0m     \u001b[38;5;28;01mraise\u001b[39;00m \u001b[38;5;167;01mValueError\u001b[39;00m(msg)\n\u001b[0;32m   1722\u001b[0m \u001b[38;5;28;01mtry\u001b[39;00m:\n\u001b[1;32m-> 1723\u001b[0m     \u001b[38;5;28;01mreturn\u001b[39;00m mapping[engine](f, \u001b[38;5;241m*\u001b[39m\u001b[38;5;241m*\u001b[39m\u001b[38;5;28mself\u001b[39m\u001b[38;5;241m.\u001b[39moptions)\n\u001b[0;32m   1724\u001b[0m \u001b[38;5;28;01mexcept\u001b[39;00m \u001b[38;5;167;01mException\u001b[39;00m:\n\u001b[0;32m   1725\u001b[0m     \u001b[38;5;28;01mif\u001b[39;00m \u001b[38;5;28mself\u001b[39m\u001b[38;5;241m.\u001b[39mhandles \u001b[38;5;129;01mis\u001b[39;00m \u001b[38;5;129;01mnot\u001b[39;00m \u001b[38;5;28;01mNone\u001b[39;00m:\n",
      "File \u001b[1;32mc:\\Users\\theod\\.conda\\envs\\DSC180\\Lib\\site-packages\\pandas\\io\\parsers\\c_parser_wrapper.py:93\u001b[0m, in \u001b[0;36mCParserWrapper.__init__\u001b[1;34m(self, src, **kwds)\u001b[0m\n\u001b[0;32m     90\u001b[0m \u001b[38;5;28;01mif\u001b[39;00m kwds[\u001b[38;5;124m\"\u001b[39m\u001b[38;5;124mdtype_backend\u001b[39m\u001b[38;5;124m\"\u001b[39m] \u001b[38;5;241m==\u001b[39m \u001b[38;5;124m\"\u001b[39m\u001b[38;5;124mpyarrow\u001b[39m\u001b[38;5;124m\"\u001b[39m:\n\u001b[0;32m     91\u001b[0m     \u001b[38;5;66;03m# Fail here loudly instead of in cython after reading\u001b[39;00m\n\u001b[0;32m     92\u001b[0m     import_optional_dependency(\u001b[38;5;124m\"\u001b[39m\u001b[38;5;124mpyarrow\u001b[39m\u001b[38;5;124m\"\u001b[39m)\n\u001b[1;32m---> 93\u001b[0m \u001b[38;5;28mself\u001b[39m\u001b[38;5;241m.\u001b[39m_reader \u001b[38;5;241m=\u001b[39m parsers\u001b[38;5;241m.\u001b[39mTextReader(src, \u001b[38;5;241m*\u001b[39m\u001b[38;5;241m*\u001b[39mkwds)\n\u001b[0;32m     95\u001b[0m \u001b[38;5;28mself\u001b[39m\u001b[38;5;241m.\u001b[39munnamed_cols \u001b[38;5;241m=\u001b[39m \u001b[38;5;28mself\u001b[39m\u001b[38;5;241m.\u001b[39m_reader\u001b[38;5;241m.\u001b[39munnamed_cols\n\u001b[0;32m     97\u001b[0m \u001b[38;5;66;03m# error: Cannot determine type of 'names'\u001b[39;00m\n",
      "File \u001b[1;32mparsers.pyx:579\u001b[0m, in \u001b[0;36mpandas._libs.parsers.TextReader.__cinit__\u001b[1;34m()\u001b[0m\n",
      "File \u001b[1;32mparsers.pyx:668\u001b[0m, in \u001b[0;36mpandas._libs.parsers.TextReader._get_header\u001b[1;34m()\u001b[0m\n",
      "File \u001b[1;32mparsers.pyx:879\u001b[0m, in \u001b[0;36mpandas._libs.parsers.TextReader._tokenize_rows\u001b[1;34m()\u001b[0m\n",
      "File \u001b[1;32mparsers.pyx:890\u001b[0m, in \u001b[0;36mpandas._libs.parsers.TextReader._check_tokenize_status\u001b[1;34m()\u001b[0m\n",
      "File \u001b[1;32mparsers.pyx:2050\u001b[0m, in \u001b[0;36mpandas._libs.parsers.raise_parser_error\u001b[1;34m()\u001b[0m\n",
      "\u001b[1;31mUnicodeDecodeError\u001b[0m: 'utf-8' codec can't decode byte 0x80 in position 0: invalid start byte"
     ]
    }
   ],
   "source": [
    "pd.read_csv(CARDS_PATH)"
   ]
  },
  {
   "cell_type": "code",
   "execution_count": 65,
   "metadata": {},
   "outputs": [
    {
     "name": "stderr",
     "output_type": "stream",
     "text": [
      "Computing similarities: 100%|██████████| 20225/20225 [05:20<00:00, 63.20it/s]\n"
     ]
    },
    {
     "data": {
      "text/plain": [
       "[(0.6287793, 'Prime Speaker Zegana', 'Legendary Creature — Merfolk Wizard'),\n",
       " (0.62843114,\n",
       "  'Balmor, Battlemage Captain',\n",
       "  'Legendary Creature — Bird Wizard'),\n",
       " (0.6281599, 'Tolsimir Wolfblood', 'Legendary Creature — Elf Warrior'),\n",
       " (0.6228123, 'Empyrean Eagle', 'Creature — Bird Spirit'),\n",
       " (0.6169724, 'Ishai, Ojutai Dragonspeaker', 'Legendary Creature — Bird Monk'),\n",
       " (0.6145219,\n",
       "  'Radagast, Wizard of Wilds',\n",
       "  'Legendary Creature — Avatar Wizard'),\n",
       " (0.61154544, 'Kira, Great Glass-Spinner', 'Legendary Creature — Spirit'),\n",
       " (0.61127925, 'Landroval, Horizon Witness', 'Legendary Creature — Bird Noble'),\n",
       " (0.6076307, 'Vega, the Watcher', 'Legendary Creature — Bird Spirit'),\n",
       " (0.60674614, 'Zuberi, Golden Feather', 'Legendary Creature — Griffin'),\n",
       " (0.60407776, 'Breena, the Demagogue', 'Legendary Creature — Bird Warlock'),\n",
       " (0.6011169, 'Gwaihir the Windlord', 'Legendary Creature — Bird Noble'),\n",
       " (0.5984743, 'Jacques le Vert', 'Legendary Creature — Human Warrior'),\n",
       " (0.5967717,\n",
       "  'Gwaihir, Greatest of the Eagles',\n",
       "  'Legendary Creature — Bird Noble'),\n",
       " (0.5959675, 'A-Vega, the Watcher', 'Legendary Creature — Bird Spirit'),\n",
       " (0.59330213, 'Kangee, Aerie Keeper', 'Legendary Creature — Bird Wizard'),\n",
       " (0.5873053, 'Riku of Many Paths', 'Legendary Creature — Human Wizard'),\n",
       " (0.58540124,\n",
       "  'Zegana, Utopian Speaker',\n",
       "  'Legendary Creature — Merfolk Wizard'),\n",
       " (0.58356076,\n",
       "  'Kongming, \"Sleeping Dragon\"',\n",
       "  'Legendary Creature — Human Advisor'),\n",
       " (0.5829409, 'Esior, Wardwing Familiar', 'Legendary Creature — Bird'),\n",
       " (0.5825097,\n",
       "  'Shaile, Dean of Radiance // Embrose, Dean of Shadow',\n",
       "  'Legendary Creature — Bird Cleric'),\n",
       " (0.58112514, 'Gahiji, Honored One', 'Legendary Creature — Beast'),\n",
       " (0.58110446, 'Shadrix Silverquill', 'Legendary Creature — Elder Dragon'),\n",
       " (0.5809495, 'Jolrael, Voice of Zhalfir', 'Legendary Creature — Human Druid'),\n",
       " (0.5791519, 'Bruenor Battlehammer', 'Legendary Creature — Dwarf Warrior'),\n",
       " (0.5770581, \"Kykar, Wind's Fury\", 'Legendary Creature — Bird Wizard'),\n",
       " (0.5754475, 'Jeskai Windscout', 'Creature — Bird Scout'),\n",
       " (0.5746679, 'Adeliz, the Cinder Wind', 'Legendary Creature — Human Wizard'),\n",
       " (0.57381135, 'Ringwarden Owl', 'Creature — Bird'),\n",
       " (0.57372874, 'Gandalf, White Rider', 'Legendary Creature — Avatar Wizard'),\n",
       " (0.5736791, 'Day of Destiny', 'Legendary Enchantment'),\n",
       " (0.5726546, 'Soraya the Falconer', 'Legendary Creature — Human'),\n",
       " (0.5720574, 'Vorosh, the Hunter', 'Legendary Creature — Dragon'),\n",
       " (0.570945, 'War Screecher', 'Creature — Bird'),\n",
       " (0.57048327, 'Supply-Line Cranes', 'Creature — Bird'),\n",
       " (0.57023543, 'Blackblade Reforged', 'Legendary Artifact — Equipment'),\n",
       " (0.5689578, 'Rorix Bladewing', 'Legendary Creature — Dragon'),\n",
       " (0.5688899, 'Andúril, Flame of the West', 'Legendary Artifact — Equipment'),\n",
       " (0.5684695, \"Lae'zel, Primal Warrior\", 'Legendary Creature — Gith Warrior'),\n",
       " (0.5674785, 'Harbin, Vanguard Aviator', 'Legendary Creature — Human Soldier'),\n",
       " (0.5663602, 'Lulu, Wild Hollyphant', 'Legendary Creature — Elephant Angel'),\n",
       " (0.56634426, 'Akim, the Soaring Wind', 'Legendary Creature — Bird Dinosaur'),\n",
       " (0.5655594, 'The Tabernacle at Pendrell Vale', 'Legendary Land'),\n",
       " (0.56328714, 'Celestial Messenger', 'Creature — Bird Spirit'),\n",
       " (0.5630675, 'Tuknir Deathlock', 'Legendary Creature — Human Wizard'),\n",
       " (0.56221014, \"Jhoira's Familiar\", 'Artifact Creature — Bird'),\n",
       " (0.5622072,\n",
       "  'Elesh Norn, Grand Cenobite',\n",
       "  'Legendary Creature — Phyrexian Praetor'),\n",
       " (0.56207126, 'Mesa Falcon', 'Creature — Bird'),\n",
       " (0.56130725, 'Esquire of the King', 'Creature — Human Soldier'),\n",
       " (0.56013113, 'Balthor the Stout', 'Legendary Creature — Dwarf Barbarian'),\n",
       " (0.55954856,\n",
       "  'Thalisse, Reverent Medium',\n",
       "  'Legendary Creature — Human Cleric'),\n",
       " (0.558595, 'Rienne, Angel of Rebirth', 'Legendary Creature — Angel'),\n",
       " (0.558421, 'Supreme Phantom', 'Creature — Spirit'),\n",
       " (0.5571209, 'Waveskimmer Aven', 'Creature — Bird Soldier'),\n",
       " (0.5571209, 'Aven Squire', 'Creature — Bird Soldier'),\n",
       " (0.55502915, 'Vulpikeet', 'Creature — Fox Bird'),\n",
       " (0.5549671,\n",
       "  \"Mavinda, Students' Advocate\",\n",
       "  'Legendary Creature — Bird Advisor'),\n",
       " (0.5544855, 'Flowering of the White Tree', 'Legendary Enchantment'),\n",
       " (0.55417824,\n",
       "  'General Marhault Elsdragon',\n",
       "  'Legendary Creature — Elf Warrior'),\n",
       " (0.5541648,\n",
       "  'Sarevok, Deceitful Usurper',\n",
       "  'Legendary Creature — Human Knight'),\n",
       " (0.55364704, 'Noyan Dar, Roil Shaper', 'Legendary Creature — Merfolk Ally'),\n",
       " (0.5527725, 'Moon Heron', 'Creature — Spirit Bird'),\n",
       " (0.5517778,\n",
       "  'Hamza, Guardian of Arashin',\n",
       "  'Legendary Creature — Elephant Warrior'),\n",
       " (0.5517034, 'The Goose Mother', 'Legendary Creature — Bird Hydra'),\n",
       " (0.5515412, 'Bright-Palm, Soul Awakener', 'Legendary Creature — Fox Shaman'),\n",
       " (0.5514716, 'Tan Jolom, the Worldwalker', 'Legendary Creature — Spirit'),\n",
       " (0.55139434, 'Gallows Warden', 'Creature — Spirit'),\n",
       " (0.55108964, 'Niblis of Dusk', 'Creature — Spirit'),\n",
       " (0.5509545, 'A-Bruenor Battlehammer', 'Legendary Creature — Dwarf Warrior'),\n",
       " (0.55022764, 'Aven Brigadier', 'Creature — Bird Soldier'),\n",
       " (0.5499028, 'Gale, Storm Conduit', 'Legendary Creature — Human Wizard'),\n",
       " (0.5497509, 'Commander Eesha', 'Legendary Creature — Bird Soldier'),\n",
       " (0.5496435, 'Kangee, Sky Warden', 'Legendary Creature — Bird Wizard'),\n",
       " (0.5491829,\n",
       "  'Tatyova, Steward of Tides',\n",
       "  'Legendary Creature — Merfolk Druid'),\n",
       " (0.5491377, 'Battleground Geist', 'Creature — Spirit'),\n",
       " (0.54871655,\n",
       "  'Ranar the Ever-Watchful',\n",
       "  'Legendary Creature — Spirit Warrior'),\n",
       " (0.5483884, 'Jetmir, Nexus of Revels', 'Legendary Creature — Cat Demon'),\n",
       " (0.5483884,\n",
       "  'Jetmir, Nexus of Revels // Jetmir, Nexus of Revels',\n",
       "  'Legendary Creature — Cat Demon'),\n",
       " (0.5483055, 'Wings of the Guard', 'Creature — Bird'),\n",
       " (0.54805714,\n",
       "  'A-Tatyova, Steward of Tides',\n",
       "  'Legendary Creature — Merfolk Druid'),\n",
       " (0.54615647, 'Lieutenant Kirtar', 'Legendary Creature — Bird Soldier'),\n",
       " (0.54602146, 'Arahbo, Roar of the World', 'Legendary Creature — Cat Avatar'),\n",
       " (0.5459229, 'Mistral Singer', 'Creature — Siren'),\n",
       " (0.54563695,\n",
       "  'Marath, Will of the Wild',\n",
       "  'Legendary Creature — Elemental Beast'),\n",
       " (0.54542315,\n",
       "  'Adrix and Nev, Twincasters',\n",
       "  'Legendary Creature — Merfolk Wizard'),\n",
       " (0.54542315,\n",
       "  'Adrix and Nev, Twincasters // Adrix and Nev, Twincasters',\n",
       "  'Legendary Creature — Merfolk Wizard'),\n",
       " (0.5453074, 'Tarox Bladewing', 'Legendary Creature — Dragon'),\n",
       " (0.5447836, \"Shanna, Sisay's Legacy\", 'Legendary Creature — Human Warrior'),\n",
       " (0.54471123, 'Syndicate Messenger', 'Creature — Bird'),\n",
       " (0.54444253, 'Nobilis of War', 'Creature — Spirit Avatar'),\n",
       " (0.5442201, 'Emrakul, the Promised End', 'Legendary Creature — Eldrazi'),\n",
       " (0.5442126, 'Oyobi, Who Split the Heavens', 'Legendary Creature — Spirit'),\n",
       " (0.54348874, 'Shabraz, the Skyshark', 'Legendary Creature — Shark Bird'),\n",
       " (0.54332936, 'Obuun, Mul Daya Ancestor', 'Legendary Creature — Elf Spirit'),\n",
       " (0.54304254, 'Zephyr Singer', 'Creature — Siren Pirate'),\n",
       " (0.5426151,\n",
       "  'Alela, Artful Provocateur',\n",
       "  'Legendary Creature — Faerie Warlock'),\n",
       " (0.54220706,\n",
       "  'Maja, Bretagard Protector',\n",
       "  'Legendary Creature — Human Warrior'),\n",
       " (0.54181325, 'Spirit of the Spires', 'Creature — Spirit'),\n",
       " (0.541751,\n",
       "  'Meloku the Clouded Mirror',\n",
       "  'Legendary Creature — Moonfolk Wizard'),\n",
       " (0.5413545, 'Karona, False God', 'Legendary Creature — Avatar')]"
      ]
     },
     "execution_count": 65,
     "metadata": {},
     "output_type": "execute_result"
    }
   ],
   "source": [
    "DATA_PATH = os.path.abspath(os.path.join('..','data'))\n",
    "CARDS_PATH = os.path.join(DATA_PATH, \"all_mtg_cards.csv\")\n",
    "\n",
    "cards_clean = load_data(CARDS_PATH)\n",
    "cmdr_colors = ['R', 'W', 'U']\n",
    "sim_cards = find_sim(cards_clean, cmdr_colors, 'Legendary Creature — Bird Bard Flying Zinnia, Valley’s Voice gets +X/+0, where X is the number of other creatures you control with base power 1. Creature spells you cast have offspring 2. (You may pay an additional 2 as you cast a creature spell. If you do, when that creature enters, create a 1/1 token copy of it.)')\n",
    "valid_names = set(cards_clean['name'].values)\n",
    "filtered_sim = list(filter(lambda x: x[1] in valid_names, sim_cards))[:100]\n",
    "filtered_sim\n"
   ]
  },
  {
   "cell_type": "code",
   "execution_count": 66,
   "metadata": {},
   "outputs": [
    {
     "name": "stderr",
     "output_type": "stream",
     "text": [
      " 14%|█▍        | 14/99 [00:14<01:28,  1.04s/it]"
     ]
    },
    {
     "name": "stdout",
     "output_type": "stream",
     "text": [
      "JSON request for \"A-Vega, the Watcher\" (a-vega-the-watcher) failed! Try different card name\n"
     ]
    },
    {
     "name": "stderr",
     "output_type": "stream",
     "text": [
      " 38%|███▊      | 38/99 [00:41<01:16,  1.25s/it]"
     ]
    },
    {
     "name": "stdout",
     "output_type": "stream",
     "text": [
      "JSON request for \"Lae'zel, Primal Warrior\" (laezel-primal-warrior) failed! Try different card name\n"
     ]
    },
    {
     "name": "stderr",
     "output_type": "stream",
     "text": [
      " 40%|████      | 40/99 [00:44<01:10,  1.20s/it]"
     ]
    },
    {
     "name": "stdout",
     "output_type": "stream",
     "text": [
      "JSON request for \"Lulu, Wild Hollyphant\" (lulu-wild-hollyphant) failed! Try different card name\n"
     ]
    },
    {
     "name": "stderr",
     "output_type": "stream",
     "text": [
      " 60%|█████▉    | 59/99 [01:08<00:48,  1.21s/it]"
     ]
    },
    {
     "name": "stdout",
     "output_type": "stream",
     "text": [
      "JSON request for \"Sarevok, Deceitful Usurper\" (sarevok-deceitful-usurper) failed! Try different card name\n"
     ]
    },
    {
     "name": "stderr",
     "output_type": "stream",
     "text": [
      " 66%|██████▌   | 65/99 [01:14<00:37,  1.09s/it]"
     ]
    },
    {
     "name": "stdout",
     "output_type": "stream",
     "text": [
      "JSON request for \"Tan Jolom, the Worldwalker\" (tan-jolom-the-worldwalker) failed! Try different card name\n"
     ]
    },
    {
     "name": "stderr",
     "output_type": "stream",
     "text": [
      " 69%|██████▊   | 68/99 [01:19<00:38,  1.26s/it]"
     ]
    },
    {
     "name": "stdout",
     "output_type": "stream",
     "text": [
      "JSON request for \"A-Bruenor Battlehammer\" (a-bruenor-battlehammer) failed! Try different card name\n"
     ]
    },
    {
     "name": "stderr",
     "output_type": "stream",
     "text": [
      " 71%|███████   | 70/99 [01:21<00:36,  1.26s/it]"
     ]
    },
    {
     "name": "stdout",
     "output_type": "stream",
     "text": [
      "JSON request for \"Gale, Storm Conduit\" (gale-storm-conduit) failed! Try different card name\n"
     ]
    },
    {
     "name": "stderr",
     "output_type": "stream",
     "text": [
      " 80%|███████▉  | 79/99 [01:30<00:21,  1.07s/it]"
     ]
    },
    {
     "name": "stdout",
     "output_type": "stream",
     "text": [
      "JSON request for \"A-Tatyova, Steward of Tides\" (a-tatyova-steward-of-tides) failed! Try different card name\n"
     ]
    },
    {
     "name": "stderr",
     "output_type": "stream",
     "text": [
      "100%|██████████| 99/99 [01:52<00:00,  1.14s/it]\n",
      " 14%|█▍        | 14/99 [00:07<00:52,  1.61it/s]"
     ]
    },
    {
     "name": "stdout",
     "output_type": "stream",
     "text": [
      "JSON request for \"A-Vega, the Watcher\" (a-vega-the-watcher) failed! Try different card name\n"
     ]
    },
    {
     "name": "stderr",
     "output_type": "stream",
     "text": [
      " 38%|███▊      | 38/99 [00:24<00:55,  1.09it/s]"
     ]
    },
    {
     "name": "stdout",
     "output_type": "stream",
     "text": [
      "JSON request for \"Lae'zel, Primal Warrior\" (laezel-primal-warrior) failed! Try different card name\n"
     ]
    },
    {
     "name": "stderr",
     "output_type": "stream",
     "text": [
      " 40%|████      | 40/99 [00:25<00:49,  1.18it/s]"
     ]
    },
    {
     "name": "stdout",
     "output_type": "stream",
     "text": [
      "JSON request for \"Lulu, Wild Hollyphant\" (lulu-wild-hollyphant) failed! Try different card name\n"
     ]
    },
    {
     "name": "stderr",
     "output_type": "stream",
     "text": [
      " 60%|█████▉    | 59/99 [00:41<00:33,  1.20it/s]"
     ]
    },
    {
     "name": "stdout",
     "output_type": "stream",
     "text": [
      "JSON request for \"Sarevok, Deceitful Usurper\" (sarevok-deceitful-usurper) failed! Try different card name\n"
     ]
    },
    {
     "name": "stderr",
     "output_type": "stream",
     "text": [
      " 66%|██████▌   | 65/99 [00:45<00:24,  1.40it/s]"
     ]
    },
    {
     "name": "stdout",
     "output_type": "stream",
     "text": [
      "JSON request for \"Tan Jolom, the Worldwalker\" (tan-jolom-the-worldwalker) failed! Try different card name\n"
     ]
    },
    {
     "name": "stderr",
     "output_type": "stream",
     "text": [
      " 69%|██████▊   | 68/99 [00:48<00:28,  1.09it/s]"
     ]
    },
    {
     "name": "stdout",
     "output_type": "stream",
     "text": [
      "JSON request for \"A-Bruenor Battlehammer\" (a-bruenor-battlehammer) failed! Try different card name\n"
     ]
    },
    {
     "name": "stderr",
     "output_type": "stream",
     "text": [
      " 71%|███████   | 70/99 [00:50<00:28,  1.03it/s]"
     ]
    },
    {
     "name": "stdout",
     "output_type": "stream",
     "text": [
      "JSON request for \"Gale, Storm Conduit\" (gale-storm-conduit) failed! Try different card name\n"
     ]
    },
    {
     "name": "stderr",
     "output_type": "stream",
     "text": [
      " 80%|███████▉  | 79/99 [00:56<00:16,  1.24it/s]"
     ]
    },
    {
     "name": "stdout",
     "output_type": "stream",
     "text": [
      "JSON request for \"A-Tatyova, Steward of Tides\" (a-tatyova-steward-of-tides) failed! Try different card name\n"
     ]
    },
    {
     "name": "stderr",
     "output_type": "stream",
     "text": [
      "100%|██████████| 99/99 [01:09<00:00,  1.43it/s]\n",
      " 14%|█▍        | 14/99 [00:07<00:53,  1.58it/s]"
     ]
    },
    {
     "name": "stdout",
     "output_type": "stream",
     "text": [
      "JSON request for \"A-Vega, the Watcher\" (a-vega-the-watcher) failed! Try different card name\n"
     ]
    },
    {
     "name": "stderr",
     "output_type": "stream",
     "text": [
      " 38%|███▊      | 38/99 [00:24<00:56,  1.08it/s]"
     ]
    },
    {
     "name": "stdout",
     "output_type": "stream",
     "text": [
      "JSON request for \"Lae'zel, Primal Warrior\" (laezel-primal-warrior) failed! Try different card name\n"
     ]
    },
    {
     "name": "stderr",
     "output_type": "stream",
     "text": [
      " 40%|████      | 40/99 [00:26<00:51,  1.15it/s]"
     ]
    },
    {
     "name": "stdout",
     "output_type": "stream",
     "text": [
      "JSON request for \"Lulu, Wild Hollyphant\" (lulu-wild-hollyphant) failed! Try different card name\n"
     ]
    },
    {
     "name": "stderr",
     "output_type": "stream",
     "text": [
      " 60%|█████▉    | 59/99 [00:41<00:33,  1.19it/s]"
     ]
    },
    {
     "name": "stdout",
     "output_type": "stream",
     "text": [
      "JSON request for \"Sarevok, Deceitful Usurper\" (sarevok-deceitful-usurper) failed! Try different card name\n"
     ]
    },
    {
     "name": "stderr",
     "output_type": "stream",
     "text": [
      " 66%|██████▌   | 65/99 [00:45<00:24,  1.42it/s]"
     ]
    },
    {
     "name": "stdout",
     "output_type": "stream",
     "text": [
      "JSON request for \"Tan Jolom, the Worldwalker\" (tan-jolom-the-worldwalker) failed! Try different card name\n"
     ]
    },
    {
     "name": "stderr",
     "output_type": "stream",
     "text": [
      " 69%|██████▊   | 68/99 [00:48<00:28,  1.09it/s]"
     ]
    },
    {
     "name": "stdout",
     "output_type": "stream",
     "text": [
      "JSON request for \"A-Bruenor Battlehammer\" (a-bruenor-battlehammer) failed! Try different card name\n"
     ]
    },
    {
     "name": "stderr",
     "output_type": "stream",
     "text": [
      " 71%|███████   | 70/99 [00:50<00:28,  1.03it/s]"
     ]
    },
    {
     "name": "stdout",
     "output_type": "stream",
     "text": [
      "JSON request for \"Gale, Storm Conduit\" (gale-storm-conduit) failed! Try different card name\n"
     ]
    },
    {
     "name": "stderr",
     "output_type": "stream",
     "text": [
      " 80%|███████▉  | 79/99 [00:56<00:16,  1.22it/s]"
     ]
    },
    {
     "name": "stdout",
     "output_type": "stream",
     "text": [
      "JSON request for \"A-Tatyova, Steward of Tides\" (a-tatyova-steward-of-tides) failed! Try different card name\n"
     ]
    },
    {
     "name": "stderr",
     "output_type": "stream",
     "text": [
      "100%|██████████| 99/99 [01:09<00:00,  1.41it/s]\n"
     ]
    },
    {
     "data": {
      "text/plain": [
       "[[('Favorable Winds', 8.279999999999998),\n",
       "  ('Reconnaissance Mission', 7.730000000000002),\n",
       "  ('Winged Words', 7.08),\n",
       "  (\"Soulcatchers' Aerie\", 6.35),\n",
       "  ('Bident of Thassa', 6.07),\n",
       "  ('Intangible Virtue', 5.850000000000001),\n",
       "  ('Steel-Plume Marshal', 5.630000000000001),\n",
       "  (\"Kangee's Lieutenant\", 5.46),\n",
       "  ('Unbreakable Formation', 5.410000000000001),\n",
       "  ('Battle Screech', 5.3500000000000005),\n",
       "  ('Rally of Wings', 5.280000000000001),\n",
       "  (\"Healer's Hawk\", 5.260000000000001),\n",
       "  ('Aven Interrupter', 5.259999999999999),\n",
       "  ('Aven Mindcensor', 5.140000000000001),\n",
       "  ('Distant Melody', 5.06),\n",
       "  (\"Cartographer's Hawk\", 5.05),\n",
       "  ('Emeria Angel', 5.040000000000001),\n",
       "  ('Flowering of the White Tree', 5.0200000000000005),\n",
       "  ('Ravenform', 5.02),\n",
       "  ('Airborne Aid', 4.98),\n",
       "  ('Wingmate Roc', 4.96),\n",
       "  ('Warden of Evos Isle', 4.72),\n",
       "  ('Battlefield Raptor', 4.59),\n",
       "  ('Soulcatcher', 4.570000000000001),\n",
       "  ('Gravitational Shift', 4.57),\n",
       "  ('Harrier Strix', 4.43),\n",
       "  ('Marble Diamond', 4.260000000000002),\n",
       "  ('Rally the Ranks', 4.13),\n",
       "  ('Windbrisk Heights', 4.11),\n",
       "  ('Opt', 4.05),\n",
       "  (\"Miner's Guidewing\", 4.05),\n",
       "  ('Kindred Discovery', 4.029999999999999),\n",
       "  ('Windborn Muse', 3.93),\n",
       "  ('Curiosity Crafter', 3.8800000000000003),\n",
       "  ('Felidar Retreat', 3.83),\n",
       "  ('Scouting Hawk', 3.6100000000000003),\n",
       "  ('Lofty Denial', 3.61),\n",
       "  ('Drogskol Reinforcements', 3.59),\n",
       "  ('Generous Gift', 3.450000000000001),\n",
       "  (\"Tocasia's Welcome\", 3.4399999999999995),\n",
       "  ('Minas Tirith', 3.4299999999999997),\n",
       "  ('Esior, Wardwing Familiar', 3.4299999999999997),\n",
       "  ('Negate', 3.41),\n",
       "  ('Selfless Spirit', 3.3699999999999997),\n",
       "  ('Augury Owl', 3.32),\n",
       "  ('Sky Diamond', 3.2699999999999996),\n",
       "  ('Swords to Plowshares', 3.2400000000000015),\n",
       "  ('Call the Coppercoats', 3.1400000000000006),\n",
       "  ('Counterspell', 3.13),\n",
       "  ('Martial Coup', 3.13),\n",
       "  ('Anointed Procession', 3.1100000000000008),\n",
       "  ('True Conviction', 3.1000000000000005),\n",
       "  ('Moonshaker Cavalry', 3.0999999999999996),\n",
       "  (\"Healer's Flock\", 3.09),\n",
       "  (\"Cathars' Crusade\", 3.0699999999999994),\n",
       "  ('Preordain', 3.04),\n",
       "  ('Hour of Reckoning', 3.01),\n",
       "  ('Disenchant', 3.0),\n",
       "  ('Aerial Assault', 2.96),\n",
       "  ('Thrummingbird', 2.9299999999999997),\n",
       "  (\"Alrund's Epiphany\", 2.91),\n",
       "  ('Ghostly Prison', 2.89),\n",
       "  ('Celestial Gatekeeper', 2.8800000000000003),\n",
       "  ('Windbrisk Raptor', 2.88),\n",
       "  ('Mentor of the Meek', 2.869999999999999),\n",
       "  ('Monastery Mentor', 2.86),\n",
       "  ('Secret Rendezvous', 2.82),\n",
       "  ('Cloudchaser Kestrel', 2.7699999999999996),\n",
       "  ('Reflections of Littjara', 2.769999999999999),\n",
       "  ('Honor of the Pure', 2.74),\n",
       "  ('Spear of Heliod', 2.73),\n",
       "  ('Hanged Executioner', 2.6999999999999997),\n",
       "  ('Haunted Library', 2.67),\n",
       "  ('Adeline, Resplendent Cathar', 2.64),\n",
       "  ('Secure the Wastes', 2.62),\n",
       "  ('Keeper of the Nine Gales', 2.6),\n",
       "  ('Glorious Anthem', 2.54),\n",
       "  ('Dust Animus', 2.54),\n",
       "  ('Talrand, Sky Summoner', 2.53),\n",
       "  ('Abzan Falconer', 2.53),\n",
       "  (\"Elspeth, Sun's Champion\", 2.5100000000000002),\n",
       "  ('Rattlechains', 2.5100000000000002),\n",
       "  ('Stormscape Familiar', 2.49),\n",
       "  ('Grand Crescendo', 2.4899999999999998),\n",
       "  ('Magus of the Moat', 2.4899999999999998),\n",
       "  ('Aven Brigadier', 2.46),\n",
       "  ('Harmonic Prodigy', 2.4400000000000004),\n",
       "  ('Nesting Dovehawk', 2.44),\n",
       "  ('Always Watching', 2.3900000000000006),\n",
       "  ('Silver Raven', 2.39),\n",
       "  ('Staff of the Storyteller', 2.3600000000000003),\n",
       "  ('Secluded Steppe', 2.3600000000000003),\n",
       "  ('Your Temple Is Under Attack', 2.35),\n",
       "  ('Mondrak, Glory Dominus', 2.33),\n",
       "  ('Twilight Drover', 2.33),\n",
       "  ('Path to Exile', 2.300000000000001),\n",
       "  ('Aerial Extortionist', 2.29),\n",
       "  ('Together Forever', 2.2800000000000002),\n",
       "  ('Supreme Phantom', 2.27),\n",
       "  ('Murmuring Mystic', 2.25)],\n",
       " [('Favorable Winds', 4.2858),\n",
       "  (\"Soulcatchers' Aerie\", 3.5285),\n",
       "  ('Warden of Evos Isle', 3.3534000000000006),\n",
       "  (\"Healer's Hawk\", 2.9708),\n",
       "  ('Steel-Plume Marshal', 2.9311),\n",
       "  (\"Cartographer's Hawk\", 2.7419000000000007),\n",
       "  ('Rally of Wings', 2.7038000000000006),\n",
       "  (\"Kangee's Lieutenant\", 2.6848),\n",
       "  ('Reconnaissance Mission', 2.6317),\n",
       "  ('Winged Words', 2.5674),\n",
       "  ('Airborne Aid', 2.5406),\n",
       "  ('Wingmate Roc', 2.414),\n",
       "  ('Battlefield Raptor', 2.4053),\n",
       "  ('Swords to Plowshares', 2.3518000000000003),\n",
       "  ('Harrier Strix', 2.3383),\n",
       "  ('Emeria Angel', 2.3184),\n",
       "  ('Soulcatcher', 2.2953),\n",
       "  ('Drogskol Reinforcements', 2.2075),\n",
       "  ('Aven Interrupter', 2.1934),\n",
       "  ('Battle Screech', 2.0545000000000004),\n",
       "  (\"Miner's Guidewing\", 2.0153),\n",
       "  ('Aven Mindcensor', 1.9768000000000003),\n",
       "  ('Intangible Virtue', 1.8160999999999996),\n",
       "  ('Ravenform', 1.7822),\n",
       "  ('Scouting Hawk', 1.7395),\n",
       "  ('Bident of Thassa', 1.7116999999999998),\n",
       "  ('Windborn Muse', 1.6773),\n",
       "  ('Curiosity Crafter', 1.6597999999999997),\n",
       "  ('Preordain', 1.5715999999999997),\n",
       "  ('Rattlechains', 1.5549000000000002),\n",
       "  ('Distant Melody', 1.528),\n",
       "  ('Opt', 1.5218999999999998),\n",
       "  ('Gravitational Shift', 1.5054999999999998),\n",
       "  ('Celestial Gatekeeper', 1.4656000000000002),\n",
       "  ('Path to Exile', 1.4649999999999992),\n",
       "  ('Selfless Spirit', 1.4565),\n",
       "  ('Flowering of the White Tree', 1.4411999999999998),\n",
       "  ('Esior, Wardwing Familiar', 1.4275),\n",
       "  ('Oyobi, Who Split the Heavens', 1.4203999999999999),\n",
       "  ('Supreme Phantom', 1.4203),\n",
       "  ('Sublime Archangel', 1.4162000000000001),\n",
       "  (\"Healer's Flock\", 1.3964999999999999),\n",
       "  ('Saw It Coming', 1.3827999999999998),\n",
       "  ('Ghostly Prison', 1.3671000000000002),\n",
       "  ('Rally the Ranks', 1.3669),\n",
       "  ('Behold the Multiverse', 1.3543),\n",
       "  ('Battlegrace Angel', 1.3284),\n",
       "  ('Keeper of the Nine Gales', 1.2906),\n",
       "  ('Felidar Retreat', 1.2896999999999998),\n",
       "  ('Patrician Geist', 1.2832999999999999),\n",
       "  ('Knight of Glory', 1.2700999999999998),\n",
       "  ('Akrasan Squire', 1.2700999999999998),\n",
       "  ('Monastery Mentor', 1.2587999999999997),\n",
       "  ('Abzan Falconer', 1.2501),\n",
       "  ('Unbreakable Formation', 1.2437),\n",
       "  ('Generous Gift', 1.2154999999999996),\n",
       "  ('Harmonic Prodigy', 1.2087999999999999),\n",
       "  ('Sigiled Paladin', 1.202),\n",
       "  ('Hanged Executioner', 1.1924),\n",
       "  ('All That Glitters', 1.1824999999999999),\n",
       "  ('Myrel, Shield of Argive', 1.1568),\n",
       "  ('Cloudchaser Kestrel', 1.1502999999999999),\n",
       "  ('Aven Gagglemaster', 1.1458),\n",
       "  ('Augury Owl', 1.1383999999999999),\n",
       "  ('Urza, Lord High Artificer', 1.1361),\n",
       "  ('Angelic Benediction', 1.1320999999999999),\n",
       "  ('Drogskol Cavalry', 1.1270000000000002),\n",
       "  ('Goblin Champion', 1.1268),\n",
       "  ('Diamond Pick-Axe', 1.1251),\n",
       "  ('Faithless Looting', 1.1220999999999994),\n",
       "  ('Commander Eesha', 1.1179999999999999),\n",
       "  ('Call the Coppercoats', 1.108),\n",
       "  ('Windbrisk Raptor', 1.1046),\n",
       "  ('Twilight Drover', 1.1017),\n",
       "  ('Dragonspeaker Shaman', 1.0754),\n",
       "  ('Moonshaker Cavalry', 1.0739999999999998),\n",
       "  ('Donal, Herald of Wings', 1.0729),\n",
       "  ('Lofty Denial', 1.0712999999999997),\n",
       "  ('Honor of the Pure', 1.06),\n",
       "  (\"Sephara, Sky's Blade\", 1.0576),\n",
       "  ('Balan, Wandering Knight', 1.0576),\n",
       "  ('Open the Armory', 1.0565),\n",
       "  ('Thrummingbird', 1.0495),\n",
       "  ('Pongify', 1.0451),\n",
       "  ('Aven Brigadier', 1.0394),\n",
       "  ('Moonveil Dragon', 1.0361),\n",
       "  ('Mu Yanling, Sky Dancer', 1.0352999999999999),\n",
       "  (\"Dragonlord's Servant\", 1.0324),\n",
       "  ('Crucible of Fire', 1.0324),\n",
       "  ('Brave the Sands', 1.0232999999999999),\n",
       "  ('Doomskar', 1.0202999999999998),\n",
       "  ('Monastery Swiftspear', 1.0186000000000002),\n",
       "  ('Clarion Spirit', 1.0171),\n",
       "  ('Mistmoon Griffin', 1.0144),\n",
       "  ('Cosmic Intervention', 1.0123),\n",
       "  (\"Sevinne's Reclamation\", 1.009),\n",
       "  (\"Galadriel's Dismissal\", 1.0064),\n",
       "  ('Minas Tirith', 1.0014999999999998),\n",
       "  ('Stormcatch Mentor', 1),\n",
       "  ('Pinnacle Monk', 1)],\n",
       " [('Favorable Winds', 2.817126),\n",
       "  ('Warden of Evos Isle', 2.6841339999999994),\n",
       "  (\"Soulcatchers' Aerie\", 2.476061),\n",
       "  (\"Healer's Hawk\", 1.8801520000000003),\n",
       "  ('Rally of Wings', 1.7792099999999997),\n",
       "  ('Steel-Plume Marshal', 1.7771150000000002),\n",
       "  (\"Cartographer's Hawk\", 1.6666509999999997),\n",
       "  ('Airborne Aid', 1.61157),\n",
       "  ('Drogskol Reinforcements', 1.527803),\n",
       "  (\"Kangee's Lieutenant\", 1.525212),\n",
       "  ('Battlefield Raptor', 1.4345729999999999),\n",
       "  ('Wingmate Roc', 1.387882),\n",
       "  ('Soulcatcher', 1.3387029999999998),\n",
       "  ('Harrier Strix', 1.2926689999999998),\n",
       "  ('Sublime Archangel', 1.1980080000000002),\n",
       "  ('Preordain', 1.1917959999999996),\n",
       "  ('Winged Words', 1.179186),\n",
       "  ('Oyobi, Who Split the Heavens', 1.177256),\n",
       "  (\"Miner's Guidewing\", 1.1648429999999999),\n",
       "  ('Emeria Angel', 1.1629679999999998),\n",
       "  ('Battlegrace Angel', 1.1022480000000001),\n",
       "  ('Saw It Coming', 1.1020699999999999),\n",
       "  ('Reconnaissance Mission', 1.074371),\n",
       "  ('All That Glitters', 1.070649),\n",
       "  ('Ravenform', 1.059862),\n",
       "  ('Rattlechains', 1.055321),\n",
       "  ('Myrel, Shield of Argive', 1.043904),\n",
       "  ('Supreme Phantom', 1.043435),\n",
       "  ('Aven Gagglemaster', 1.0393659999999998),\n",
       "  ('Urza, Lord High Artificer', 1.037791),\n",
       "  ('Diamond Pick-Axe', 1.027343),\n",
       "  ('Dragonspeaker Shaman', 1.0198079999999998),\n",
       "  ('Donal, Herald of Wings', 1.019683),\n",
       "  ('Knight of Glory', 1.0193489999999998),\n",
       "  ('Akrasan Squire', 1.0193489999999998),\n",
       "  ('Aven Interrupter', 1.0169380000000001),\n",
       "  ('Faithless Looting', 1.016189),\n",
       "  (\"Sephara, Sky's Blade\", 1.013824),\n",
       "  ('Balan, Wandering Knight', 1.013824),\n",
       "  ('Open the Armory', 1.009271),\n",
       "  ('Moonveil Dragon', 1.006859),\n",
       "  (\"Dragonlord's Servant\", 1.005832),\n",
       "  ('Crucible of Fire', 1.005832),\n",
       "  ('Mu Yanling, Sky Dancer', 1.004399),\n",
       "  ('Brave the Sands', 1.002709),\n",
       "  ('Pongify', 1.002435),\n",
       "  ('Mistmoon Griffin', 1.001728),\n",
       "  (\"Galadriel's Dismissal\", 1.000512),\n",
       "  ('Stormcatch Mentor', 1),\n",
       "  ('Pinnacle Monk', 1),\n",
       "  ('Siege Smash', 1),\n",
       "  ('Sink into Stupor', 1),\n",
       "  ('Sundering Eruption', 1),\n",
       "  ('Strength of the Harvest', 1),\n",
       "  ('Kastral, the Windcrested', 1),\n",
       "  ('Mockingbird', 1),\n",
       "  ('Nadu, Winged Wisdom', 1),\n",
       "  ('Disciple of Freyalise', 1),\n",
       "  ('Strix Serenade', 1),\n",
       "  (\"Kozilek's Unsealing\", 1),\n",
       "  ('Hydroelectric Specimen', 1),\n",
       "  ('Harbinger of the Seas', 1),\n",
       "  ('Seasoned Consultant', 1),\n",
       "  ('Sram, Senior Edificer', 1),\n",
       "  ('On the Job', 1.0),\n",
       "  (\"Fortune Teller's Talent\", 1),\n",
       "  ('Witch Enchanter', 1),\n",
       "  ('Zeriam, Golden Wind', 1),\n",
       "  ('Mtenda Griffin', 1),\n",
       "  ('Diving Griffin', 1),\n",
       "  ('Fearless Fledgling', 1),\n",
       "  ('Griffin Sentinel', 1),\n",
       "  ('Griffin Dreamfinder', 1),\n",
       "  ('Ekundu Griffin', 1),\n",
       "  ('Razorfoot Griffin', 1),\n",
       "  (\"Dawn's Truce\", 1),\n",
       "  ('Envoy of the Ancestors', 1),\n",
       "  ('Fell the Profane', 1),\n",
       "  ('Shay Cormac', 1),\n",
       "  ('Aerie Auxiliary', 1),\n",
       "  ('Jackdaw Savior', 1),\n",
       "  ('Senu, Keen-Eyed Protector', 1),\n",
       "  ('Fire Ants', 1),\n",
       "  ('Pyrohemia', 1),\n",
       "  ('Pariah', 1),\n",
       "  ('Ocelot Pride', 1),\n",
       "  ('Caduceus, Staff of Hermes', 1),\n",
       "  ('Guide of Souls', 1),\n",
       "  ('Murmuration', 1),\n",
       "  ('Soraya the Falconer', 1),\n",
       "  ('Collective Resistance', 1),\n",
       "  ('Season of Weaving', 1),\n",
       "  ('Season of Gathering', 1),\n",
       "  ('Season of the Bold', 1),\n",
       "  ('Fangs of Kalonia', 1),\n",
       "  ('Evolution Witness', 1),\n",
       "  ('Templar Knight', 1),\n",
       "  ('Indebted Spirit', 1),\n",
       "  ('Metastatic Evangel', 1),\n",
       "  ('Silverquill Lecturer', 1)]]"
      ]
     },
     "execution_count": 66,
     "metadata": {},
     "output_type": "execute_result"
    }
   ],
   "source": [
    "comp_cards = [find_comp(cards_clean, filtered_sim[1:], cmdr_colors, power) for power in [1,2,3]]\n",
    "comp_cards"
   ]
  },
  {
   "cell_type": "code",
   "execution_count": 48,
   "metadata": {},
   "outputs": [
    {
     "data": {
      "text/html": [
       "<div>\n",
       "<style scoped>\n",
       "    .dataframe tbody tr th:only-of-type {\n",
       "        vertical-align: middle;\n",
       "    }\n",
       "\n",
       "    .dataframe tbody tr th {\n",
       "        vertical-align: top;\n",
       "    }\n",
       "\n",
       "    .dataframe thead th {\n",
       "        text-align: right;\n",
       "    }\n",
       "</style>\n",
       "<table border=\"1\" class=\"dataframe\">\n",
       "  <thead>\n",
       "    <tr style=\"text-align: right;\">\n",
       "      <th></th>\n",
       "      <th>name</th>\n",
       "      <th>mana_cost</th>\n",
       "      <th>cmc</th>\n",
       "      <th>colors</th>\n",
       "      <th>color_identity</th>\n",
       "      <th>legalities</th>\n",
       "      <th>type</th>\n",
       "      <th>supertypes</th>\n",
       "      <th>subtypes</th>\n",
       "      <th>rarity</th>\n",
       "      <th>text</th>\n",
       "      <th>set</th>\n",
       "      <th>set_name</th>\n",
       "      <th>id</th>\n",
       "    </tr>\n",
       "  </thead>\n",
       "  <tbody>\n",
       "    <tr>\n",
       "      <th>1384</th>\n",
       "      <td>Lictor</td>\n",
       "      <td>{3}{G}</td>\n",
       "      <td>4.0</td>\n",
       "      <td>['G']</td>\n",
       "      <td>[G]</td>\n",
       "      <td>[{'format': 'Commander', 'legality': 'Legal'},...</td>\n",
       "      <td>Creature — Tyranid</td>\n",
       "      <td>NaN</td>\n",
       "      <td>['Tyranid']</td>\n",
       "      <td>Rare</td>\n",
       "      <td>Flash\\nPheromone Trail — When Lictor enters th...</td>\n",
       "      <td>40K</td>\n",
       "      <td>Warhammer 40,000 Commander</td>\n",
       "      <td>2fe82578-41a9-57ca-8496-6cf5804bd6b2</td>\n",
       "    </tr>\n",
       "  </tbody>\n",
       "</table>\n",
       "</div>"
      ],
      "text/plain": [
       "        name mana_cost  cmc colors color_identity  \\\n",
       "1384  Lictor    {3}{G}  4.0  ['G']            [G]   \n",
       "\n",
       "                                             legalities                type  \\\n",
       "1384  [{'format': 'Commander', 'legality': 'Legal'},...  Creature — Tyranid   \n",
       "\n",
       "     supertypes     subtypes rarity  \\\n",
       "1384        NaN  ['Tyranid']   Rare   \n",
       "\n",
       "                                                   text  set  \\\n",
       "1384  Flash\\nPheromone Trail — When Lictor enters th...  40K   \n",
       "\n",
       "                        set_name                                    id  \n",
       "1384  Warhammer 40,000 Commander  2fe82578-41a9-57ca-8496-6cf5804bd6b2  "
      ]
     },
     "execution_count": 48,
     "metadata": {},
     "output_type": "execute_result"
    }
   ],
   "source": [
    "cards_clean[cards_clean['name'] == sim_cards[0][1]]"
   ]
  },
  {
   "cell_type": "code",
   "execution_count": 68,
   "metadata": {},
   "outputs": [
    {
     "data": {
      "text/plain": [
       "[('Favorable Winds', 2.817126),\n",
       " ('Warden of Evos Isle', 2.6841339999999994),\n",
       " (\"Soulcatchers' Aerie\", 2.476061),\n",
       " (\"Healer's Hawk\", 1.8801520000000003),\n",
       " ('Rally of Wings', 1.7792099999999997),\n",
       " ('Steel-Plume Marshal', 1.7771150000000002),\n",
       " (\"Cartographer's Hawk\", 1.6666509999999997),\n",
       " ('Airborne Aid', 1.61157),\n",
       " ('Drogskol Reinforcements', 1.527803),\n",
       " (\"Kangee's Lieutenant\", 1.525212),\n",
       " ('Battlefield Raptor', 1.4345729999999999),\n",
       " ('Wingmate Roc', 1.387882),\n",
       " ('Soulcatcher', 1.3387029999999998),\n",
       " ('Harrier Strix', 1.2926689999999998),\n",
       " ('Sublime Archangel', 1.1980080000000002),\n",
       " ('Preordain', 1.1917959999999996),\n",
       " ('Winged Words', 1.179186),\n",
       " ('Oyobi, Who Split the Heavens', 1.177256),\n",
       " (\"Miner's Guidewing\", 1.1648429999999999),\n",
       " ('Emeria Angel', 1.1629679999999998),\n",
       " ('Battlegrace Angel', 1.1022480000000001),\n",
       " ('Saw It Coming', 1.1020699999999999),\n",
       " ('Reconnaissance Mission', 1.074371),\n",
       " ('All That Glitters', 1.070649),\n",
       " ('Ravenform', 1.059862),\n",
       " ('Rattlechains', 1.055321),\n",
       " ('Myrel, Shield of Argive', 1.043904),\n",
       " ('Supreme Phantom', 1.043435),\n",
       " ('Aven Gagglemaster', 1.0393659999999998),\n",
       " ('Urza, Lord High Artificer', 1.037791),\n",
       " ('Diamond Pick-Axe', 1.027343),\n",
       " ('Dragonspeaker Shaman', 1.0198079999999998),\n",
       " ('Donal, Herald of Wings', 1.019683),\n",
       " ('Knight of Glory', 1.0193489999999998),\n",
       " ('Akrasan Squire', 1.0193489999999998),\n",
       " ('Aven Interrupter', 1.0169380000000001),\n",
       " ('Faithless Looting', 1.016189),\n",
       " (\"Sephara, Sky's Blade\", 1.013824),\n",
       " ('Balan, Wandering Knight', 1.013824),\n",
       " ('Open the Armory', 1.009271),\n",
       " ('Moonveil Dragon', 1.006859),\n",
       " (\"Dragonlord's Servant\", 1.005832),\n",
       " ('Crucible of Fire', 1.005832),\n",
       " ('Mu Yanling, Sky Dancer', 1.004399),\n",
       " ('Brave the Sands', 1.002709),\n",
       " ('Pongify', 1.002435),\n",
       " ('Mistmoon Griffin', 1.001728),\n",
       " (\"Galadriel's Dismissal\", 1.000512),\n",
       " ('Stormcatch Mentor', 1),\n",
       " ('Pinnacle Monk', 1),\n",
       " ('Siege Smash', 1),\n",
       " ('Sink into Stupor', 1),\n",
       " ('Sundering Eruption', 1),\n",
       " ('Strength of the Harvest', 1),\n",
       " ('Kastral, the Windcrested', 1),\n",
       " ('Mockingbird', 1),\n",
       " ('Nadu, Winged Wisdom', 1),\n",
       " ('Disciple of Freyalise', 1),\n",
       " ('Strix Serenade', 1),\n",
       " (\"Kozilek's Unsealing\", 1),\n",
       " ('Hydroelectric Specimen', 1),\n",
       " ('Harbinger of the Seas', 1),\n",
       " ('Seasoned Consultant', 1),\n",
       " ('Sram, Senior Edificer', 1),\n",
       " ('On the Job', 1.0),\n",
       " (\"Fortune Teller's Talent\", 1),\n",
       " ('Witch Enchanter', 1),\n",
       " ('Zeriam, Golden Wind', 1),\n",
       " ('Mtenda Griffin', 1),\n",
       " ('Diving Griffin', 1),\n",
       " ('Fearless Fledgling', 1),\n",
       " ('Griffin Sentinel', 1),\n",
       " ('Griffin Dreamfinder', 1),\n",
       " ('Ekundu Griffin', 1),\n",
       " ('Razorfoot Griffin', 1),\n",
       " (\"Dawn's Truce\", 1),\n",
       " ('Envoy of the Ancestors', 1),\n",
       " ('Fell the Profane', 1),\n",
       " ('Shay Cormac', 1),\n",
       " ('Aerie Auxiliary', 1),\n",
       " ('Jackdaw Savior', 1),\n",
       " ('Senu, Keen-Eyed Protector', 1),\n",
       " ('Fire Ants', 1),\n",
       " ('Pyrohemia', 1),\n",
       " ('Pariah', 1),\n",
       " ('Ocelot Pride', 1),\n",
       " ('Caduceus, Staff of Hermes', 1),\n",
       " ('Guide of Souls', 1),\n",
       " ('Murmuration', 1),\n",
       " ('Soraya the Falconer', 1),\n",
       " ('Collective Resistance', 1),\n",
       " ('Season of Weaving', 1),\n",
       " ('Season of Gathering', 1),\n",
       " ('Season of the Bold', 1),\n",
       " ('Fangs of Kalonia', 1),\n",
       " ('Evolution Witness', 1),\n",
       " ('Templar Knight', 1),\n",
       " ('Indebted Spirit', 1),\n",
       " ('Metastatic Evangel', 1),\n",
       " ('Silverquill Lecturer', 1)]"
      ]
     },
     "execution_count": 68,
     "metadata": {},
     "output_type": "execute_result"
    }
   ],
   "source": [
    "comp_cards[2]"
   ]
  },
  {
   "cell_type": "code",
   "execution_count": null,
   "metadata": {},
   "outputs": [],
   "source": [
    "comp_cards"
   ]
  },
  {
   "cell_type": "markdown",
   "metadata": {},
   "source": []
  },
  {
   "cell_type": "code",
   "execution_count": 9,
   "metadata": {},
   "outputs": [
    {
     "ename": "NameError",
     "evalue": "name 'out' is not defined",
     "output_type": "error",
     "traceback": [
      "\u001b[1;31m---------------------------------------------------------------------------\u001b[0m",
      "\u001b[1;31mNameError\u001b[0m                                 Traceback (most recent call last)",
      "Cell \u001b[1;32mIn[9], line 1\u001b[0m\n\u001b[1;32m----> 1\u001b[0m out\u001b[38;5;241m.\u001b[39mhead(\u001b[38;5;241m10\u001b[39m)\n",
      "\u001b[1;31mNameError\u001b[0m: name 'out' is not defined"
     ]
    }
   ],
   "source": [
    "out.head(10)"
   ]
  },
  {
   "cell_type": "code",
   "execution_count": 20,
   "metadata": {},
   "outputs": [],
   "source": [
    "load_data(CARDS_PATH).to_csv('cards')"
   ]
  },
  {
   "cell_type": "code",
   "execution_count": null,
   "metadata": {},
   "outputs": [],
   "source": []
  }
 ],
 "metadata": {
  "kernelspec": {
   "display_name": "DSC180",
   "language": "python",
   "name": "python3"
  },
  "language_info": {
   "codemirror_mode": {
    "name": "ipython",
    "version": 3
   },
   "file_extension": ".py",
   "mimetype": "text/x-python",
   "name": "python",
   "nbconvert_exporter": "python",
   "pygments_lexer": "ipython3",
   "version": "3.11.5"
  }
 },
 "nbformat": 4,
 "nbformat_minor": 2
}
